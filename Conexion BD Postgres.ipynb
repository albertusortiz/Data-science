{
 "cells": [
  {
   "cell_type": "code",
   "execution_count": 122,
   "metadata": {},
   "outputs": [
    {
     "name": "stdout",
     "output_type": "stream",
     "text": [
      "  Age_Rating  total\n",
      "0         9+   2447\n",
      "1        17+    654\n",
      "2        12+   2017\n",
      "3         4+  11624\n"
     ]
    }
   ],
   "source": [
    "#pip install psycopg2 #Instalando la libreria para la conexion a Postgres\n",
    "\n",
    "import psycopg2\n",
    "\n",
    "# Connect to an existing database\n",
    "conn = psycopg2.connect('host=localhost dbname=db_tutorial_bloodstream user=postgres password=admin')\n",
    "\n",
    "# Open a cursor to perform database operations\n",
    "cur = conn.cursor()\n",
    "\n",
    "# Query the database and obtain data as Python objects\n",
    "#cur.execute('SELECT id, uuid, \"Name\", \"Subtitle\", \"Icon_Url\", \"Description\", \"Developer\", \"Age_Rating\", \"Size\", \"Original_Release_Date\", \"Current_Version_Release_Date\", \"createdAt\", \"updatedAt\"  FROM games LIMIT 10;')\n",
    "\n",
    "#Print result\n",
    "#for id, uuid, Name, Subtitle, Icon_Url, Description, Developer, Age_Rating, Size, Original_Release_Date, Current_Version_Release_Date, createdAt, updatedAt in cur.fetchall() :\n",
    "#    print(id, uuid, Name, Subtitle, Icon_Url, Description, Developer, Age_Rating, Size, Original_Release_Date, Current_Version_Release_Date, createdAt, updatedAt)\n",
    "cur.execute('SELECT * FROM games limit 10;')\n",
    "\n",
    "#for row in cur.fetchall():\n",
    "#    print(row)\n",
    "\n",
    "import pandas as pd\n",
    "# Usa read_sql_query de pandas para extraer el resultado\n",
    "# de la consulta a un DataFrame\n",
    "df = pd.read_sql_query(\"SELECT * from games\", conn)\n",
    "\n",
    "df_grupo_edades = pd.read_sql_query('select \"Age_Rating\", count(*) as Total from games group by \"Age_Rating\"', conn)\n",
    "# Verifica que el resultado de la consulta SQL está\n",
    "# almacenado en el DataFrame\n",
    "print(df_grupo_edades)\n",
    "\n",
    "# Make the changes to the database persistent\n",
    "conn.commit()\n",
    "\n",
    "# Close communication with the database\n",
    "cur.close()\n",
    "conn.close()"
   ]
  },
  {
   "cell_type": "code",
   "execution_count": 152,
   "metadata": {},
   "outputs": [],
   "source": [
    "edades = df_grupo_edades.iloc[:,0]\n"
   ]
  },
  {
   "cell_type": "code",
   "execution_count": 153,
   "metadata": {},
   "outputs": [],
   "source": [
    "cantidad = df_grupo_edades.iloc[:,1]"
   ]
  },
  {
   "cell_type": "code",
   "execution_count": 158,
   "metadata": {},
   "outputs": [
    {
     "data": {
      "text/plain": [
       "0     9+\n",
       "1    17+\n",
       "2    12+\n",
       "3     4+\n",
       "Name: Age_Rating, dtype: object"
      ]
     },
     "execution_count": 158,
     "metadata": {},
     "output_type": "execute_result"
    }
   ],
   "source": [
    "edades"
   ]
  },
  {
   "cell_type": "code",
   "execution_count": 157,
   "metadata": {},
   "outputs": [
    {
     "data": {
      "text/plain": [
       "0     2447\n",
       "1      654\n",
       "2     2017\n",
       "3    11624\n",
       "Name: total, dtype: int64"
      ]
     },
     "execution_count": 157,
     "metadata": {},
     "output_type": "execute_result"
    }
   ],
   "source": [
    "cantidad"
   ]
  },
  {
   "cell_type": "code",
   "execution_count": 159,
   "metadata": {},
   "outputs": [],
   "source": [
    "import matplotlib\n",
    "import matplotlib.pyplot as plt\n",
    "import numpy as np"
   ]
  },
  {
   "cell_type": "code",
   "execution_count": 162,
   "metadata": {},
   "outputs": [
    {
     "data": {
      "image/png": "[encoded data removed]",
      "text/plain": [
       "<Figure size 432x288 with 1 Axes>"
      ]
     },
     "metadata": {
      "needs_background": "light"
     },
     "output_type": "display_data"
    }
   ],
   "source": [
    "fig, ax = plt.subplots()\n",
    "#Colocamos una etiqueta en el eje Y\n",
    "ax.set_ylabel('Edades')\n",
    "#Colocamos una etiqueta en el eje X\n",
    "ax.set_title('Cantidad de Juegos Clasificados por Edad')\n",
    "#Creamos la grafica de barras utilizando 'edades' como eje X y 'cantidad' como eje y.\n",
    "plt.bar(edades, cantidad)\n",
    "plt.savefig('barras_simple.png')\n",
    "#Finalmente mostramos la grafica con el metodo show()\n",
    "plt.show()"
   ]
  },
  {
   "cell_type": "code",
   "execution_count": null,
   "metadata": {},
   "outputs": [],
   "source": []
  },
  {
   "cell_type": "code",
   "execution_count": null,
   "metadata": {},
   "outputs": [],
   "source": []
  },
  {
   "cell_type": "code",
   "execution_count": null,
   "metadata": {},
   "outputs": [],
   "source": []
  }
 ],
 "metadata": {
  "kernelspec": {
   "display_name": "Python 3",
   "language": "python",
   "name": "python3"
  },
  "language_info": {
   "codemirror_mode": {
    "name": "ipython",
    "version": 3
   },
   "file_extension": ".py",
   "mimetype": "text/x-python",
   "name": "python",
   "nbconvert_exporter": "python",
   "pygments_lexer": "ipython3",
   "version": "3.8.5"
  }
 },
 "nbformat": 4,
 "nbformat_minor": 4
}
